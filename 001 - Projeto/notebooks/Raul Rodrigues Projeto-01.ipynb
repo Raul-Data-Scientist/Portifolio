{
 "cells": [
  {
   "cell_type": "markdown",
   "id": "963fdb00-3593-420e-8901-9a150b81e018",
   "metadata": {},
   "source": [
    "<img src=\"https://avatars.githubusercontent.com/u/16632335?v=4\" alt=\"Avatar\" style=\"border-radius: 50%; width: 150px; height: 150px;\">\n",
    "\n",
    "# By Raul Rodrigues - HSR"
   ]
  },
  {
   "cell_type": "markdown",
   "id": "27b8baf7-5307-43a2-b91c-fa1f20cdcfb0",
   "metadata": {
    "tags": []
   },
   "source": [
    "## 1. Importanto a biblioteca e lendo as tabelas\n",
    "> Segue os códigos abaixo, qualquer dúvida, fico a disposição, desde já obrigado, e tenha uma ótima semana!\n",
    "\n",
    "> Toda resposta eu criei um breve insight de forma superficial, por não ter mais informações do negócio em si, com essa informação mais precisa, mais insights profundos poderiam ser elaborados"
   ]
  },
  {
   "cell_type": "code",
   "execution_count": 1,
   "id": "a555dde6-74bd-4764-b993-1fe84808c671",
   "metadata": {},
   "outputs": [],
   "source": [
    "import pandas as pd"
   ]
  },
  {
   "cell_type": "code",
   "execution_count": 2,
   "id": "4f942ee2-7fbc-4e63-9fe9-6de9b5d3f1c1",
   "metadata": {},
   "outputs": [
    {
     "name": "stdout",
     "output_type": "stream",
     "text": [
      "Shape: (600, 5)\n",
      "\n",
      "Nome das colunas: Index(['PainelistaID', 'Cidade', 'Estado', 'Sexo', 'Nascimento'], dtype='object')\n",
      "\n",
      "Tipos das colunas:\n",
      "PainelistaID    object\n",
      "Cidade          object\n",
      "Estado          object\n",
      "Sexo            object\n",
      "Nascimento      object\n",
      "dtype: object\n"
     ]
    }
   ],
   "source": [
    "painelistas = pd.read_csv(\"Painelista.csv\", sep=';')\n",
    "\n",
    "# Imprimindo o shape e o nome das colunas do respectivo DataFrame\n",
    "print(\"Shape:\", painelistas.shape)\n",
    "# Mostrando o nome das colunas\n",
    "print(\"\\nNome das colunas:\", painelistas.columns)\n",
    "# Mostrando os tipos das colunas\n",
    "print(\"\\nTipos das colunas:\")\n",
    "print(painelistas.dtypes)"
   ]
  },
  {
   "cell_type": "code",
   "execution_count": 3,
   "id": "6c0686df-9579-4a2e-bf22-0defd9b389cf",
   "metadata": {},
   "outputs": [
    {
     "name": "stdout",
     "output_type": "stream",
     "text": [
      "Shape: (2, 3)\n",
      "\n",
      "Nome das colunas: Index(['PesquisaID', 'Nome', 'CodJob'], dtype='object')\n",
      "\n",
      "Tipos das colunas:\n",
      "PesquisaID    object\n",
      "Nome          object\n",
      "CodJob         int64\n",
      "dtype: object\n"
     ]
    }
   ],
   "source": [
    "pesquisa = pd.read_csv(\"Pesquisa.csv\", sep=';')\n",
    "\n",
    "# Imprimindo o shape e o nome das colunas do respectivo DataFrame\n",
    "print(\"Shape:\", pesquisa.shape)\n",
    "# Mostrando o nome das colunas\n",
    "print(\"\\nNome das colunas:\", pesquisa.columns)\n",
    "# Mostrando os tipos das colunas\n",
    "print(\"\\nTipos das colunas:\")\n",
    "print(pesquisa.dtypes)"
   ]
  },
  {
   "cell_type": "code",
   "execution_count": 4,
   "id": "558f093f-fe4c-49a1-8b70-f30370a136de",
   "metadata": {},
   "outputs": [
    {
     "name": "stdout",
     "output_type": "stream",
     "text": [
      "Shape: (1200, 4)\n",
      "\n",
      "Nome das colunas: Index(['PesquisaID', 'PainelistaID', 'Data', 'CodCliente'], dtype='object')\n",
      "\n",
      "Tipos das colunas:\n",
      "PesquisaID       object\n",
      "PainelistaID     object\n",
      "Data             object\n",
      "CodCliente      float64\n",
      "dtype: object\n"
     ]
    }
   ],
   "source": [
    "painelista_pesquisa = pd.read_csv(\"Painelista_Pesquisa.csv\", sep=';')\n",
    "\n",
    "# Imprimindo o shape e o nome das colunas do respectivo DataFrame\n",
    "print(\"Shape:\", painelista_pesquisa.shape)\n",
    "# Mostrando o nome das colunas\n",
    "print(\"\\nNome das colunas:\", painelista_pesquisa.columns)\n",
    "# Mostrando os tipos das colunas\n",
    "print(\"\\nTipos das colunas:\")\n",
    "print(painelista_pesquisa.dtypes)"
   ]
  },
  {
   "cell_type": "code",
   "execution_count": 5,
   "id": "0de6e69a-28a9-4f9e-a533-992fc7108987",
   "metadata": {},
   "outputs": [
    {
     "name": "stdout",
     "output_type": "stream",
     "text": [
      "Shape: (4382, 5)\n",
      "\n",
      "Nome das colunas: Index(['CodCliente', 'CodJob', 'CodQuestao', 'DescQuestaoPOR', 'Resposta'], dtype='object')\n",
      "\n",
      "Tipos das colunas:\n",
      "CodCliente         int64\n",
      "CodJob             int64\n",
      "CodQuestao         int64\n",
      "DescQuestaoPOR    object\n",
      "Resposta          object\n",
      "dtype: object\n"
     ]
    }
   ],
   "source": [
    "respostas = pd.read_csv(\"Respostas.csv\", sep=';')\n",
    "\n",
    "# Imprimindo o shape e o nome das colunas do respectivo DataFrame\n",
    "print(\"Shape:\", respostas.shape)\n",
    "# Mostrando o nome das colunas\n",
    "print(\"\\nNome das colunas:\", respostas.columns)\n",
    "# Mostrando os tipos das colunas\n",
    "print(\"\\nTipos das colunas:\")\n",
    "print(respostas.dtypes)"
   ]
  },
  {
   "cell_type": "code",
   "execution_count": 6,
   "id": "202b93e5-36f1-4098-bf53-ce81184335d5",
   "metadata": {},
   "outputs": [
    {
     "name": "stdout",
     "output_type": "stream",
     "text": [
      "Shape: (92, 3)\n",
      "\n",
      "Nome das colunas: Index(['CodQuestao', 'Resposta', 'DescOpcaoPOR'], dtype='object')\n",
      "\n",
      "Tipos das colunas:\n",
      "CodQuestao       int64\n",
      "Resposta         int64\n",
      "DescOpcaoPOR    object\n",
      "dtype: object\n"
     ]
    }
   ],
   "source": [
    "# Carregando o arquivo CSV em um DataFrame\n",
    "questoes_respostas = pd.read_csv(\"Questao_DescResposta.csv\", sep=';')\n",
    "\n",
    "# Imprimindo o shape e o nome das colunas do respectivo DataFrame\n",
    "print(\"Shape:\", questoes_respostas.shape)\n",
    "# Mostrando o nome das colunas\n",
    "print(\"\\nNome das colunas:\", questoes_respostas.columns)\n",
    "# Mostrando os tipos das colunas\n",
    "print(\"\\nTipos das colunas:\")\n",
    "print(questoes_respostas.dtypes)"
   ]
  },
  {
   "cell_type": "markdown",
   "id": "5c4be0c7-abe1-451e-87de-cc43f40931ad",
   "metadata": {},
   "source": [
    "## 2. O MERGE das tabelelas, será feito na seguinte ordem:\n",
    "\n",
    "- 1. respostas com pesquisa\n",
    "- 2. respostas(merged_df) com questoes_respostas\n",
    "- 3. painelistas com painelista_pesquisa\n",
    "- 4. pesquisa com painelista_pesquisa(merged_03) \n",
    "- 5. resposta(merged_df) com painelista_pesquisa(merged_04)"
   ]
  },
  {
   "cell_type": "markdown",
   "id": "3db5f960-dec5-49f8-b86b-b53078cf3a6c",
   "metadata": {},
   "source": [
    "### 2.1 Tratamento da coluna Resposta da coluna Respostas:\n",
    "Antes de começar a realizar os merges é necessário realizar o tratamento da coluna Resposta da tabela Respostas, pois tem perguntas que tem mais de uma resposta do mesmo cliente."
   ]
  },
  {
   "cell_type": "code",
   "execution_count": 7,
   "id": "9cd382fa-283f-49b7-8ed0-808231d5691b",
   "metadata": {},
   "outputs": [
    {
     "data": {
      "text/html": [
       "<div>\n",
       "<style scoped>\n",
       "    .dataframe tbody tr th:only-of-type {\n",
       "        vertical-align: middle;\n",
       "    }\n",
       "\n",
       "    .dataframe tbody tr th {\n",
       "        vertical-align: top;\n",
       "    }\n",
       "\n",
       "    .dataframe thead th {\n",
       "        text-align: right;\n",
       "    }\n",
       "</style>\n",
       "<table border=\"1\" class=\"dataframe\">\n",
       "  <thead>\n",
       "    <tr style=\"text-align: right;\">\n",
       "      <th></th>\n",
       "      <th>CodCliente</th>\n",
       "      <th>CodJob</th>\n",
       "      <th>CodQuestao</th>\n",
       "      <th>DescQuestaoPOR</th>\n",
       "      <th>Resposta</th>\n",
       "    </tr>\n",
       "  </thead>\n",
       "  <tbody>\n",
       "    <tr>\n",
       "      <th>0</th>\n",
       "      <td>17529748</td>\n",
       "      <td>4037</td>\n",
       "      <td>122498</td>\n",
       "      <td>Você tem PIX?</td>\n",
       "      <td>3</td>\n",
       "    </tr>\n",
       "    <tr>\n",
       "      <th>1</th>\n",
       "      <td>17529787</td>\n",
       "      <td>4037</td>\n",
       "      <td>122498</td>\n",
       "      <td>Você tem PIX?</td>\n",
       "      <td>1</td>\n",
       "    </tr>\n",
       "    <tr>\n",
       "      <th>2</th>\n",
       "      <td>17662142</td>\n",
       "      <td>4037</td>\n",
       "      <td>122498</td>\n",
       "      <td>Você tem PIX?</td>\n",
       "      <td>1</td>\n",
       "    </tr>\n",
       "    <tr>\n",
       "      <th>3</th>\n",
       "      <td>17662151</td>\n",
       "      <td>4037</td>\n",
       "      <td>122498</td>\n",
       "      <td>Você tem PIX?</td>\n",
       "      <td>1</td>\n",
       "    </tr>\n",
       "    <tr>\n",
       "      <th>4</th>\n",
       "      <td>17689472</td>\n",
       "      <td>4037</td>\n",
       "      <td>122498</td>\n",
       "      <td>Você tem PIX?</td>\n",
       "      <td>1</td>\n",
       "    </tr>\n",
       "  </tbody>\n",
       "</table>\n",
       "</div>"
      ],
      "text/plain": [
       "   CodCliente  CodJob  CodQuestao  DescQuestaoPOR Resposta\n",
       "0    17529748    4037      122498  Você tem PIX?         3\n",
       "1    17529787    4037      122498  Você tem PIX?         1\n",
       "2    17662142    4037      122498  Você tem PIX?         1\n",
       "3    17662151    4037      122498  Você tem PIX?         1\n",
       "4    17689472    4037      122498  Você tem PIX?         1"
      ]
     },
     "execution_count": 7,
     "metadata": {},
     "output_type": "execute_result"
    }
   ],
   "source": [
    "# Linhas com resposta única\n",
    "df_expandido = respostas[~respostas['Resposta'].str.contains(\"\\|\")]\n",
    "\n",
    "# Linhas com respostas múltiplas\n",
    "df_multiplo = respostas[respostas['Resposta'].str.contains(\"\\|\")]\n",
    "\n",
    "# Processar linhas com respostas múltiplas\n",
    "for index, row in df_multiplo.iterrows():\n",
    "    respostas_lista = row['Resposta'].split(\"|\")\n",
    "    for resposta in respostas_lista:\n",
    "        nova_linha = row.copy()\n",
    "        nova_linha['Resposta'] = int(resposta)\n",
    "        df_expandido = pd.concat([df_expandido, pd.DataFrame([nova_linha])], ignore_index=True)\n",
    "\n",
    "# Visualizar as primeiras linhas do resultado\n",
    "df_expandido.head()"
   ]
  },
  {
   "cell_type": "code",
   "execution_count": 8,
   "id": "cbb15779-9540-4b74-966d-478976f45868",
   "metadata": {},
   "outputs": [
    {
     "data": {
      "text/plain": [
       "(5551, 5)"
      ]
     },
     "execution_count": 8,
     "metadata": {},
     "output_type": "execute_result"
    }
   ],
   "source": [
    "df_expandido.shape"
   ]
  },
  {
   "cell_type": "markdown",
   "id": "cfc35a1f-b245-4ce6-9feb-e93495c6fea2",
   "metadata": {},
   "source": [
    "### 2.2 Merge 01: respostas(df_expandido) com pesquisa na chave CodJob"
   ]
  },
  {
   "cell_type": "code",
   "execution_count": 9,
   "id": "0bd86f07-ce4e-45ec-8a17-7072890e5569",
   "metadata": {},
   "outputs": [
    {
     "data": {
      "text/plain": [
       "(5551, 7)"
      ]
     },
     "execution_count": 9,
     "metadata": {},
     "output_type": "execute_result"
    }
   ],
   "source": [
    "merged_df = pd.merge(df_expandido, pesquisa, on='CodJob', how='left')\n",
    "merged_df.shape"
   ]
  },
  {
   "cell_type": "code",
   "execution_count": 10,
   "id": "36580173-76f6-4f9e-89f2-50ed68e67470",
   "metadata": {},
   "outputs": [
    {
     "data": {
      "text/html": [
       "<div>\n",
       "<style scoped>\n",
       "    .dataframe tbody tr th:only-of-type {\n",
       "        vertical-align: middle;\n",
       "    }\n",
       "\n",
       "    .dataframe tbody tr th {\n",
       "        vertical-align: top;\n",
       "    }\n",
       "\n",
       "    .dataframe thead th {\n",
       "        text-align: right;\n",
       "    }\n",
       "</style>\n",
       "<table border=\"1\" class=\"dataframe\">\n",
       "  <thead>\n",
       "    <tr style=\"text-align: right;\">\n",
       "      <th></th>\n",
       "      <th>CodCliente</th>\n",
       "      <th>CodJob</th>\n",
       "      <th>CodQuestao</th>\n",
       "      <th>DescQuestaoPOR</th>\n",
       "      <th>Resposta</th>\n",
       "      <th>PesquisaID</th>\n",
       "      <th>Nome</th>\n",
       "    </tr>\n",
       "  </thead>\n",
       "  <tbody>\n",
       "    <tr>\n",
       "      <th>0</th>\n",
       "      <td>17529748</td>\n",
       "      <td>4037</td>\n",
       "      <td>122498</td>\n",
       "      <td>Você tem PIX?</td>\n",
       "      <td>3</td>\n",
       "      <td>31821770-8E76-434D-BB14-10A6CA8B7667</td>\n",
       "      <td>98DZK9M</td>\n",
       "    </tr>\n",
       "    <tr>\n",
       "      <th>1</th>\n",
       "      <td>17529787</td>\n",
       "      <td>4037</td>\n",
       "      <td>122498</td>\n",
       "      <td>Você tem PIX?</td>\n",
       "      <td>1</td>\n",
       "      <td>31821770-8E76-434D-BB14-10A6CA8B7667</td>\n",
       "      <td>98DZK9M</td>\n",
       "    </tr>\n",
       "    <tr>\n",
       "      <th>2</th>\n",
       "      <td>17662142</td>\n",
       "      <td>4037</td>\n",
       "      <td>122498</td>\n",
       "      <td>Você tem PIX?</td>\n",
       "      <td>1</td>\n",
       "      <td>31821770-8E76-434D-BB14-10A6CA8B7667</td>\n",
       "      <td>98DZK9M</td>\n",
       "    </tr>\n",
       "    <tr>\n",
       "      <th>3</th>\n",
       "      <td>17662151</td>\n",
       "      <td>4037</td>\n",
       "      <td>122498</td>\n",
       "      <td>Você tem PIX?</td>\n",
       "      <td>1</td>\n",
       "      <td>31821770-8E76-434D-BB14-10A6CA8B7667</td>\n",
       "      <td>98DZK9M</td>\n",
       "    </tr>\n",
       "    <tr>\n",
       "      <th>4</th>\n",
       "      <td>17689472</td>\n",
       "      <td>4037</td>\n",
       "      <td>122498</td>\n",
       "      <td>Você tem PIX?</td>\n",
       "      <td>1</td>\n",
       "      <td>31821770-8E76-434D-BB14-10A6CA8B7667</td>\n",
       "      <td>98DZK9M</td>\n",
       "    </tr>\n",
       "  </tbody>\n",
       "</table>\n",
       "</div>"
      ],
      "text/plain": [
       "   CodCliente  CodJob  CodQuestao  DescQuestaoPOR Resposta  \\\n",
       "0    17529748    4037      122498  Você tem PIX?         3   \n",
       "1    17529787    4037      122498  Você tem PIX?         1   \n",
       "2    17662142    4037      122498  Você tem PIX?         1   \n",
       "3    17662151    4037      122498  Você tem PIX?         1   \n",
       "4    17689472    4037      122498  Você tem PIX?         1   \n",
       "\n",
       "                             PesquisaID     Nome  \n",
       "0  31821770-8E76-434D-BB14-10A6CA8B7667  98DZK9M  \n",
       "1  31821770-8E76-434D-BB14-10A6CA8B7667  98DZK9M  \n",
       "2  31821770-8E76-434D-BB14-10A6CA8B7667  98DZK9M  \n",
       "3  31821770-8E76-434D-BB14-10A6CA8B7667  98DZK9M  \n",
       "4  31821770-8E76-434D-BB14-10A6CA8B7667  98DZK9M  "
      ]
     },
     "execution_count": 10,
     "metadata": {},
     "output_type": "execute_result"
    }
   ],
   "source": [
    "merged_df.head()"
   ]
  },
  {
   "cell_type": "markdown",
   "id": "03944811-4b1a-4495-a2cb-91c5a6237d89",
   "metadata": {},
   "source": [
    "> Foi tentado realizar o merge entre respostas com pesquisa na CodCliente e Resposta: merged_df = pd.merge(merged_df, questoes_respostas, on=['CodQuestao', 'Resposta'], how='left')\n",
    "\n",
    "> Porém retornou erro de que estava tentando dar um merge com tipos diferentes das colunas, portanto foi optado em transformar tudo para string, por ter numeros e textos, depois fazer a conversar necessária."
   ]
  },
  {
   "cell_type": "code",
   "execution_count": 11,
   "id": "bfb6c724-0388-4276-94fa-e3fd6d5b7681",
   "metadata": {},
   "outputs": [],
   "source": [
    "# Convertendo a coluna 'CodQuestao' para o tipo int\n",
    "merged_df['CodQuestao'] = merged_df['CodQuestao'].astype(int)\n",
    "questoes_respostas['CodQuestao'] = questoes_respostas['CodQuestao'].astype(int)\n",
    "\n",
    "\n",
    "# Convertendo a coluna 'Resposta' para o tipo string\n",
    "merged_df['Resposta'] = merged_df['Resposta'].astype(int)\n",
    "questoes_respostas['Resposta'] = questoes_respostas['Resposta'].astype(int)"
   ]
  },
  {
   "cell_type": "markdown",
   "id": "e4047a08-4b07-4989-9f22-3ba8712a9b9e",
   "metadata": {},
   "source": [
    "### 2.3 Merge 02: respostas(merged_df) com questoes_respostas na CodCliente"
   ]
  },
  {
   "cell_type": "code",
   "execution_count": 12,
   "id": "e7901bbc-b0ab-4df1-8a6a-787c13f3ad85",
   "metadata": {},
   "outputs": [
    {
     "data": {
      "text/plain": [
       "(5551, 8)"
      ]
     },
     "execution_count": 12,
     "metadata": {},
     "output_type": "execute_result"
    }
   ],
   "source": [
    "merged_df = pd.merge(merged_df, questoes_respostas, on=['CodQuestao', 'Resposta'], how='inner')\n",
    "merged_df.shape"
   ]
  },
  {
   "cell_type": "markdown",
   "id": "bd502ee3-5b89-47b4-b440-ca37909f7116",
   "metadata": {},
   "source": [
    "### 2.4 Merge 03: painelistas com painelista_pesquisa na chave PainelistaID"
   ]
  },
  {
   "cell_type": "code",
   "execution_count": 13,
   "id": "751fd742-f765-4c00-b7fc-8418033b367b",
   "metadata": {},
   "outputs": [
    {
     "data": {
      "text/plain": [
       "(1200, 8)"
      ]
     },
     "execution_count": 13,
     "metadata": {},
     "output_type": "execute_result"
    }
   ],
   "source": [
    "merged_03 = pd.merge(painelistas, painelista_pesquisa, on='PainelistaID', how='left')\n",
    "merged_03.shape"
   ]
  },
  {
   "cell_type": "code",
   "execution_count": 14,
   "id": "1ccad7ad-19b3-4858-afb2-9725927bb8d9",
   "metadata": {},
   "outputs": [
    {
     "data": {
      "text/html": [
       "<div>\n",
       "<style scoped>\n",
       "    .dataframe tbody tr th:only-of-type {\n",
       "        vertical-align: middle;\n",
       "    }\n",
       "\n",
       "    .dataframe tbody tr th {\n",
       "        vertical-align: top;\n",
       "    }\n",
       "\n",
       "    .dataframe thead th {\n",
       "        text-align: right;\n",
       "    }\n",
       "</style>\n",
       "<table border=\"1\" class=\"dataframe\">\n",
       "  <thead>\n",
       "    <tr style=\"text-align: right;\">\n",
       "      <th></th>\n",
       "      <th>PainelistaID</th>\n",
       "      <th>Cidade</th>\n",
       "      <th>Estado</th>\n",
       "      <th>Sexo</th>\n",
       "      <th>Nascimento</th>\n",
       "      <th>PesquisaID</th>\n",
       "      <th>Data</th>\n",
       "      <th>CodCliente</th>\n",
       "    </tr>\n",
       "  </thead>\n",
       "  <tbody>\n",
       "    <tr>\n",
       "      <th>0</th>\n",
       "      <td>44C12860-704A-4BFC-AA76-46BD5604B60B</td>\n",
       "      <td>Uberlândia</td>\n",
       "      <td>MG</td>\n",
       "      <td>M</td>\n",
       "      <td>09/1994</td>\n",
       "      <td>D8811E98-FE36-4575-99E5-68BE7D31F6FB</td>\n",
       "      <td>14/03/2022 17:40</td>\n",
       "      <td>23498094.0</td>\n",
       "    </tr>\n",
       "    <tr>\n",
       "      <th>1</th>\n",
       "      <td>44C12860-704A-4BFC-AA76-46BD5604B60B</td>\n",
       "      <td>Uberlândia</td>\n",
       "      <td>MG</td>\n",
       "      <td>M</td>\n",
       "      <td>09/1994</td>\n",
       "      <td>31821770-8E76-434D-BB14-10A6CA8B7667</td>\n",
       "      <td>14/03/2022 17:48</td>\n",
       "      <td>20236240.0</td>\n",
       "    </tr>\n",
       "    <tr>\n",
       "      <th>2</th>\n",
       "      <td>46A9177F-BFC7-44A2-8572-545C76FC38E3</td>\n",
       "      <td>Itapeva</td>\n",
       "      <td>SP</td>\n",
       "      <td>F</td>\n",
       "      <td>05/1999</td>\n",
       "      <td>D8811E98-FE36-4575-99E5-68BE7D31F6FB</td>\n",
       "      <td>25/02/2022 01:52</td>\n",
       "      <td>23413603.0</td>\n",
       "    </tr>\n",
       "    <tr>\n",
       "      <th>3</th>\n",
       "      <td>46A9177F-BFC7-44A2-8572-545C76FC38E3</td>\n",
       "      <td>Itapeva</td>\n",
       "      <td>SP</td>\n",
       "      <td>F</td>\n",
       "      <td>05/1999</td>\n",
       "      <td>31821770-8E76-434D-BB14-10A6CA8B7667</td>\n",
       "      <td>25/02/2022 01:59</td>\n",
       "      <td>20078005.0</td>\n",
       "    </tr>\n",
       "    <tr>\n",
       "      <th>4</th>\n",
       "      <td>1E69D5A1-91BC-4966-A2C0-FFB6C3CF52D8</td>\n",
       "      <td>Taboão da Serra</td>\n",
       "      <td>SP</td>\n",
       "      <td>F</td>\n",
       "      <td>06/2001</td>\n",
       "      <td>D8811E98-FE36-4575-99E5-68BE7D31F6FB</td>\n",
       "      <td>04/04/2022 17:27</td>\n",
       "      <td>23821669.0</td>\n",
       "    </tr>\n",
       "  </tbody>\n",
       "</table>\n",
       "</div>"
      ],
      "text/plain": [
       "                           PainelistaID           Cidade Estado Sexo  \\\n",
       "0  44C12860-704A-4BFC-AA76-46BD5604B60B       Uberlândia     MG    M   \n",
       "1  44C12860-704A-4BFC-AA76-46BD5604B60B       Uberlândia     MG    M   \n",
       "2  46A9177F-BFC7-44A2-8572-545C76FC38E3          Itapeva     SP    F   \n",
       "3  46A9177F-BFC7-44A2-8572-545C76FC38E3          Itapeva     SP    F   \n",
       "4  1E69D5A1-91BC-4966-A2C0-FFB6C3CF52D8  Taboão da Serra     SP    F   \n",
       "\n",
       "  Nascimento                            PesquisaID              Data  \\\n",
       "0    09/1994  D8811E98-FE36-4575-99E5-68BE7D31F6FB  14/03/2022 17:40   \n",
       "1    09/1994  31821770-8E76-434D-BB14-10A6CA8B7667  14/03/2022 17:48   \n",
       "2    05/1999  D8811E98-FE36-4575-99E5-68BE7D31F6FB  25/02/2022 01:52   \n",
       "3    05/1999  31821770-8E76-434D-BB14-10A6CA8B7667  25/02/2022 01:59   \n",
       "4    06/2001  D8811E98-FE36-4575-99E5-68BE7D31F6FB  04/04/2022 17:27   \n",
       "\n",
       "   CodCliente  \n",
       "0  23498094.0  \n",
       "1  20236240.0  \n",
       "2  23413603.0  \n",
       "3  20078005.0  \n",
       "4  23821669.0  "
      ]
     },
     "execution_count": 14,
     "metadata": {},
     "output_type": "execute_result"
    }
   ],
   "source": [
    "merged_03.head()"
   ]
  },
  {
   "cell_type": "markdown",
   "id": "1be997c6-6225-4256-a438-1f3b18b3a699",
   "metadata": {},
   "source": [
    "### 2.5 Merge 04: pesquisa com painelista_pesquisa(merged_03) na chave PesquisaID"
   ]
  },
  {
   "cell_type": "code",
   "execution_count": 15,
   "id": "bef44033-7668-46b2-97a4-2c363c8c4e08",
   "metadata": {},
   "outputs": [
    {
     "data": {
      "text/plain": [
       "(1200, 10)"
      ]
     },
     "execution_count": 15,
     "metadata": {},
     "output_type": "execute_result"
    }
   ],
   "source": [
    "merged_04 = pd.merge(pesquisa, merged_03, on='PesquisaID', how='inner')\n",
    "merged_04.shape"
   ]
  },
  {
   "cell_type": "code",
   "execution_count": 16,
   "id": "b9ce86b1-94d9-446f-8eaa-ed156ce6ec3e",
   "metadata": {},
   "outputs": [
    {
     "data": {
      "text/html": [
       "<div>\n",
       "<style scoped>\n",
       "    .dataframe tbody tr th:only-of-type {\n",
       "        vertical-align: middle;\n",
       "    }\n",
       "\n",
       "    .dataframe tbody tr th {\n",
       "        vertical-align: top;\n",
       "    }\n",
       "\n",
       "    .dataframe thead th {\n",
       "        text-align: right;\n",
       "    }\n",
       "</style>\n",
       "<table border=\"1\" class=\"dataframe\">\n",
       "  <thead>\n",
       "    <tr style=\"text-align: right;\">\n",
       "      <th></th>\n",
       "      <th>PesquisaID</th>\n",
       "      <th>Nome</th>\n",
       "      <th>CodJob</th>\n",
       "      <th>PainelistaID</th>\n",
       "      <th>Cidade</th>\n",
       "      <th>Estado</th>\n",
       "      <th>Sexo</th>\n",
       "      <th>Nascimento</th>\n",
       "      <th>Data</th>\n",
       "      <th>CodCliente</th>\n",
       "    </tr>\n",
       "  </thead>\n",
       "  <tbody>\n",
       "    <tr>\n",
       "      <th>0</th>\n",
       "      <td>31821770-8E76-434D-BB14-10A6CA8B7667</td>\n",
       "      <td>98DZK9M</td>\n",
       "      <td>4037</td>\n",
       "      <td>44C12860-704A-4BFC-AA76-46BD5604B60B</td>\n",
       "      <td>Uberlândia</td>\n",
       "      <td>MG</td>\n",
       "      <td>M</td>\n",
       "      <td>09/1994</td>\n",
       "      <td>14/03/2022 17:48</td>\n",
       "      <td>20236240.0</td>\n",
       "    </tr>\n",
       "    <tr>\n",
       "      <th>1</th>\n",
       "      <td>31821770-8E76-434D-BB14-10A6CA8B7667</td>\n",
       "      <td>98DZK9M</td>\n",
       "      <td>4037</td>\n",
       "      <td>46A9177F-BFC7-44A2-8572-545C76FC38E3</td>\n",
       "      <td>Itapeva</td>\n",
       "      <td>SP</td>\n",
       "      <td>F</td>\n",
       "      <td>05/1999</td>\n",
       "      <td>25/02/2022 01:59</td>\n",
       "      <td>20078005.0</td>\n",
       "    </tr>\n",
       "    <tr>\n",
       "      <th>2</th>\n",
       "      <td>31821770-8E76-434D-BB14-10A6CA8B7667</td>\n",
       "      <td>98DZK9M</td>\n",
       "      <td>4037</td>\n",
       "      <td>1E69D5A1-91BC-4966-A2C0-FFB6C3CF52D8</td>\n",
       "      <td>Taboão da Serra</td>\n",
       "      <td>SP</td>\n",
       "      <td>F</td>\n",
       "      <td>06/2001</td>\n",
       "      <td>04/04/2022 17:23</td>\n",
       "      <td>20347837.0</td>\n",
       "    </tr>\n",
       "    <tr>\n",
       "      <th>3</th>\n",
       "      <td>31821770-8E76-434D-BB14-10A6CA8B7667</td>\n",
       "      <td>98DZK9M</td>\n",
       "      <td>4037</td>\n",
       "      <td>E1BCA661-F67D-42FF-92D1-4DDC08B47238</td>\n",
       "      <td>Duque de Caxias</td>\n",
       "      <td>RJ</td>\n",
       "      <td>F</td>\n",
       "      <td>12/2004</td>\n",
       "      <td>15/03/2022 17:28</td>\n",
       "      <td>20243661.0</td>\n",
       "    </tr>\n",
       "    <tr>\n",
       "      <th>4</th>\n",
       "      <td>31821770-8E76-434D-BB14-10A6CA8B7667</td>\n",
       "      <td>98DZK9M</td>\n",
       "      <td>4037</td>\n",
       "      <td>D04CECFD-F857-43A8-8A06-46DC0927A63B</td>\n",
       "      <td>Belém</td>\n",
       "      <td>PA</td>\n",
       "      <td>F</td>\n",
       "      <td>10/1989</td>\n",
       "      <td>05/04/2022 08:42</td>\n",
       "      <td>20361287.0</td>\n",
       "    </tr>\n",
       "  </tbody>\n",
       "</table>\n",
       "</div>"
      ],
      "text/plain": [
       "                             PesquisaID     Nome  CodJob  \\\n",
       "0  31821770-8E76-434D-BB14-10A6CA8B7667  98DZK9M    4037   \n",
       "1  31821770-8E76-434D-BB14-10A6CA8B7667  98DZK9M    4037   \n",
       "2  31821770-8E76-434D-BB14-10A6CA8B7667  98DZK9M    4037   \n",
       "3  31821770-8E76-434D-BB14-10A6CA8B7667  98DZK9M    4037   \n",
       "4  31821770-8E76-434D-BB14-10A6CA8B7667  98DZK9M    4037   \n",
       "\n",
       "                           PainelistaID           Cidade Estado Sexo  \\\n",
       "0  44C12860-704A-4BFC-AA76-46BD5604B60B       Uberlândia     MG    M   \n",
       "1  46A9177F-BFC7-44A2-8572-545C76FC38E3          Itapeva     SP    F   \n",
       "2  1E69D5A1-91BC-4966-A2C0-FFB6C3CF52D8  Taboão da Serra     SP    F   \n",
       "3  E1BCA661-F67D-42FF-92D1-4DDC08B47238  Duque de Caxias     RJ    F   \n",
       "4  D04CECFD-F857-43A8-8A06-46DC0927A63B            Belém     PA    F   \n",
       "\n",
       "  Nascimento              Data  CodCliente  \n",
       "0    09/1994  14/03/2022 17:48  20236240.0  \n",
       "1    05/1999  25/02/2022 01:59  20078005.0  \n",
       "2    06/2001  04/04/2022 17:23  20347837.0  \n",
       "3    12/2004  15/03/2022 17:28  20243661.0  \n",
       "4    10/1989  05/04/2022 08:42  20361287.0  "
      ]
     },
     "execution_count": 16,
     "metadata": {},
     "output_type": "execute_result"
    }
   ],
   "source": [
    "merged_04.head()"
   ]
  },
  {
   "cell_type": "markdown",
   "id": "5d206730-8c7f-490c-b016-4989f095ec5b",
   "metadata": {},
   "source": [
    "### 2.6 Merge 05: resposta(merged_df) com painelista_pesquisa(merged_04) na chave PesquisaID"
   ]
  },
  {
   "cell_type": "code",
   "execution_count": 17,
   "id": "24e66328-b524-4270-9dc0-1d9748b2bdd2",
   "metadata": {},
   "outputs": [
    {
     "name": "stdout",
     "output_type": "stream",
     "text": [
      "Colunas em comum entre merged_df e merged_XX2:\n",
      "['CodJob', 'CodCliente', 'Nome', 'PesquisaID']\n"
     ]
    }
   ],
   "source": [
    "# Encontrando as colunas em comum entre merged_df e merged_04\n",
    "colunas_comuns = list(set(merged_df.columns).intersection(set(merged_04.columns)))\n",
    "\n",
    "# Imprimindo as colunas em comum\n",
    "print(\"Colunas em comum entre merged_df e merged_XX2:\")\n",
    "print(colunas_comuns)"
   ]
  },
  {
   "cell_type": "code",
   "execution_count": 18,
   "id": "1a129d5b-3f6a-42c8-ac36-3c091fcbd612",
   "metadata": {},
   "outputs": [
    {
     "data": {
      "text/plain": [
       "(5551, 14)"
      ]
     },
     "execution_count": 18,
     "metadata": {},
     "output_type": "execute_result"
    }
   ],
   "source": [
    "merged_Final = pd.merge(merged_df, merged_04, on=colunas_comuns, how='inner')\n",
    "merged_Final.shape"
   ]
  },
  {
   "cell_type": "code",
   "execution_count": 19,
   "id": "a00bd0f5-b6bb-42af-94d6-632cb0a8a75c",
   "metadata": {},
   "outputs": [
    {
     "data": {
      "text/html": [
       "<div>\n",
       "<style scoped>\n",
       "    .dataframe tbody tr th:only-of-type {\n",
       "        vertical-align: middle;\n",
       "    }\n",
       "\n",
       "    .dataframe tbody tr th {\n",
       "        vertical-align: top;\n",
       "    }\n",
       "\n",
       "    .dataframe thead th {\n",
       "        text-align: right;\n",
       "    }\n",
       "</style>\n",
       "<table border=\"1\" class=\"dataframe\">\n",
       "  <thead>\n",
       "    <tr style=\"text-align: right;\">\n",
       "      <th></th>\n",
       "      <th>CodCliente</th>\n",
       "      <th>CodJob</th>\n",
       "      <th>CodQuestao</th>\n",
       "      <th>DescQuestaoPOR</th>\n",
       "      <th>Resposta</th>\n",
       "      <th>PesquisaID</th>\n",
       "      <th>Nome</th>\n",
       "      <th>DescOpcaoPOR</th>\n",
       "      <th>PainelistaID</th>\n",
       "      <th>Cidade</th>\n",
       "      <th>Estado</th>\n",
       "      <th>Sexo</th>\n",
       "      <th>Nascimento</th>\n",
       "      <th>Data</th>\n",
       "    </tr>\n",
       "  </thead>\n",
       "  <tbody>\n",
       "    <tr>\n",
       "      <th>1983</th>\n",
       "      <td>21633253</td>\n",
       "      <td>4037</td>\n",
       "      <td>122499</td>\n",
       "      <td>Para quais finalidades você usa o PIX?</td>\n",
       "      <td>4</td>\n",
       "      <td>31821770-8E76-434D-BB14-10A6CA8B7667</td>\n",
       "      <td>98DZK9M</td>\n",
       "      <td>Pagar compras em supermercados</td>\n",
       "      <td>E66CD898-762E-44B1-AC48-BF04E61DA2CA</td>\n",
       "      <td>Nortelândia</td>\n",
       "      <td>MT</td>\n",
       "      <td>F</td>\n",
       "      <td>09/2002</td>\n",
       "      <td>16/07/2022 01:45</td>\n",
       "    </tr>\n",
       "    <tr>\n",
       "      <th>2609</th>\n",
       "      <td>23485055</td>\n",
       "      <td>3794</td>\n",
       "      <td>57627</td>\n",
       "      <td>Você tem filhos?</td>\n",
       "      <td>1</td>\n",
       "      <td>D8811E98-FE36-4575-99E5-68BE7D31F6FB</td>\n",
       "      <td>F60KRQX</td>\n",
       "      <td>Sim</td>\n",
       "      <td>E412A2CA-F569-48C6-8436-8EF3A28E44DC</td>\n",
       "      <td>Jaguariaíva</td>\n",
       "      <td>PR</td>\n",
       "      <td>F</td>\n",
       "      <td>02/1990</td>\n",
       "      <td>11/03/2022 20:34</td>\n",
       "    </tr>\n",
       "    <tr>\n",
       "      <th>2585</th>\n",
       "      <td>23465538</td>\n",
       "      <td>3794</td>\n",
       "      <td>57724</td>\n",
       "      <td>Você tem alguma atividade remunerada, mensal?</td>\n",
       "      <td>9</td>\n",
       "      <td>D8811E98-FE36-4575-99E5-68BE7D31F6FB</td>\n",
       "      <td>F60KRQX</td>\n",
       "      <td>Empregado de Empresa privada</td>\n",
       "      <td>3FE1238D-2CED-44E8-A834-42E802AD43F6</td>\n",
       "      <td>Angra dos Reis</td>\n",
       "      <td>RJ</td>\n",
       "      <td>M</td>\n",
       "      <td>03/2002</td>\n",
       "      <td>11/03/2022 15:02</td>\n",
       "    </tr>\n",
       "    <tr>\n",
       "      <th>5113</th>\n",
       "      <td>23833656</td>\n",
       "      <td>3794</td>\n",
       "      <td>57627</td>\n",
       "      <td>Você tem filhos?</td>\n",
       "      <td>2</td>\n",
       "      <td>D8811E98-FE36-4575-99E5-68BE7D31F6FB</td>\n",
       "      <td>F60KRQX</td>\n",
       "      <td>Não</td>\n",
       "      <td>02603CC2-687B-461E-8AB3-8ACB39BF53BD</td>\n",
       "      <td>Castanhal</td>\n",
       "      <td>PA</td>\n",
       "      <td>F</td>\n",
       "      <td>07/2002</td>\n",
       "      <td>05/04/2022 07:26</td>\n",
       "    </tr>\n",
       "    <tr>\n",
       "      <th>291</th>\n",
       "      <td>20001345</td>\n",
       "      <td>4037</td>\n",
       "      <td>122499</td>\n",
       "      <td>Para quais finalidades você usa o PIX?</td>\n",
       "      <td>2</td>\n",
       "      <td>31821770-8E76-434D-BB14-10A6CA8B7667</td>\n",
       "      <td>98DZK9M</td>\n",
       "      <td>Pagar contas</td>\n",
       "      <td>D61461B5-3D0F-4439-A3F5-43A2A67D4FBC</td>\n",
       "      <td>Jacareí</td>\n",
       "      <td>SP</td>\n",
       "      <td>M</td>\n",
       "      <td>11/2005</td>\n",
       "      <td>20/02/2022 16:24</td>\n",
       "    </tr>\n",
       "  </tbody>\n",
       "</table>\n",
       "</div>"
      ],
      "text/plain": [
       "      CodCliente  CodJob  CodQuestao  \\\n",
       "1983    21633253    4037      122499   \n",
       "2609    23485055    3794       57627   \n",
       "2585    23465538    3794       57724   \n",
       "5113    23833656    3794       57627   \n",
       "291     20001345    4037      122499   \n",
       "\n",
       "                                     DescQuestaoPOR  Resposta  \\\n",
       "1983        Para quais finalidades você usa o PIX?          4   \n",
       "2609                               Você tem filhos?         1   \n",
       "2585  Você tem alguma atividade remunerada, mensal?         9   \n",
       "5113                               Você tem filhos?         2   \n",
       "291         Para quais finalidades você usa o PIX?          2   \n",
       "\n",
       "                                PesquisaID     Nome  \\\n",
       "1983  31821770-8E76-434D-BB14-10A6CA8B7667  98DZK9M   \n",
       "2609  D8811E98-FE36-4575-99E5-68BE7D31F6FB  F60KRQX   \n",
       "2585  D8811E98-FE36-4575-99E5-68BE7D31F6FB  F60KRQX   \n",
       "5113  D8811E98-FE36-4575-99E5-68BE7D31F6FB  F60KRQX   \n",
       "291   31821770-8E76-434D-BB14-10A6CA8B7667  98DZK9M   \n",
       "\n",
       "                         DescOpcaoPOR                          PainelistaID  \\\n",
       "1983  Pagar compras em supermercados   E66CD898-762E-44B1-AC48-BF04E61DA2CA   \n",
       "2609                              Sim  E412A2CA-F569-48C6-8436-8EF3A28E44DC   \n",
       "2585     Empregado de Empresa privada  3FE1238D-2CED-44E8-A834-42E802AD43F6   \n",
       "5113                              Não  02603CC2-687B-461E-8AB3-8ACB39BF53BD   \n",
       "291                     Pagar contas   D61461B5-3D0F-4439-A3F5-43A2A67D4FBC   \n",
       "\n",
       "              Cidade Estado Sexo Nascimento              Data  \n",
       "1983     Nortelândia     MT    F    09/2002  16/07/2022 01:45  \n",
       "2609     Jaguariaíva     PR    F    02/1990  11/03/2022 20:34  \n",
       "2585  Angra dos Reis     RJ    M    03/2002  11/03/2022 15:02  \n",
       "5113       Castanhal     PA    F    07/2002  05/04/2022 07:26  \n",
       "291          Jacareí     SP    M    11/2005  20/02/2022 16:24  "
      ]
     },
     "execution_count": 19,
     "metadata": {},
     "output_type": "execute_result"
    }
   ],
   "source": [
    "# Visualizar dataframe de forma randomica\n",
    "merged_Final.sample(5)"
   ]
  },
  {
   "cell_type": "markdown",
   "id": "2c9b16ae-8f5f-4da4-a86a-353057816bf0",
   "metadata": {},
   "source": [
    "## 3. Antes de entrar propriamente nas respostas, verificar realmente se os tipos estão corretos"
   ]
  },
  {
   "cell_type": "code",
   "execution_count": 20,
   "id": "4b63f443-1604-4823-9f17-be478c75f7c3",
   "metadata": {},
   "outputs": [
    {
     "data": {
      "text/plain": [
       "CodCliente         int64\n",
       "CodJob             int64\n",
       "CodQuestao         int32\n",
       "DescQuestaoPOR    object\n",
       "Resposta           int32\n",
       "PesquisaID        object\n",
       "Nome              object\n",
       "DescOpcaoPOR      object\n",
       "PainelistaID      object\n",
       "Cidade            object\n",
       "Estado            object\n",
       "Sexo              object\n",
       "Nascimento        object\n",
       "Data              object\n",
       "dtype: object"
      ]
     },
     "execution_count": 20,
     "metadata": {},
     "output_type": "execute_result"
    }
   ],
   "source": [
    "merged_Final.dtypes"
   ]
  },
  {
   "cell_type": "markdown",
   "id": "0eb0ae8a-1eb7-45d0-b7e3-a1ea62a843f7",
   "metadata": {},
   "source": [
    "Como tem perguntas relacionada a idade, haverá conversão das seguintes colunas: "
   ]
  },
  {
   "cell_type": "code",
   "execution_count": 21,
   "id": "59c094a3-a6da-4096-82b2-1dddbfd5bb23",
   "metadata": {},
   "outputs": [],
   "source": [
    "# Convertendo a coluna 'Nascimento' para o formato de data e hora, especificando o formato 'mês/ano'\n",
    "merged_Final['Nascimento'] = pd.to_datetime(merged_Final['Nascimento'], format='%m/%Y')\n",
    "\n",
    "# Convertendo a coluna 'Data' para o formato de data e hora padrão do pandas\n",
    "merged_Final['Data'] = pd.to_datetime(merged_Final['Data'])\n",
    "\n",
    "# Convertendo a coluna 'Sexo' para o tipo de categoria, útil para colunas com um conjunto limitado de valores\n",
    "merged_Final['Sexo'] = merged_Final['Sexo'].astype('category')"
   ]
  },
  {
   "cell_type": "code",
   "execution_count": null,
   "id": "2c99debb-3dd8-4c8a-b17a-0476d9e579f3",
   "metadata": {},
   "outputs": [],
   "source": []
  },
  {
   "cell_type": "markdown",
   "id": "59aa9573-177b-4765-85cc-7f451bb3ecbd",
   "metadata": {},
   "source": [
    "## 4. Respondendo as questões levantadas pelo setor responsável"
   ]
  },
  {
   "cell_type": "markdown",
   "id": "719fbaa3-36d5-464d-b372-71cb0c7e5e4b",
   "metadata": {},
   "source": [
    "### a. Qual é a média e desvio padrão de idade dos 600 Painelista? Talvez você precise fazer aproximações para responder esta pergunta. O seu critério de aproximação será avaliado."
   ]
  },
  {
   "cell_type": "code",
   "execution_count": 22,
   "id": "6a53c00e-a05e-4409-915a-f393c04d5a09",
   "metadata": {},
   "outputs": [
    {
     "name": "stdout",
     "output_type": "stream",
     "text": [
      "Quantidade de PainelistaID únicos: 600\n"
     ]
    }
   ],
   "source": [
    "# Contar quantos valores únicos existem na coluna 'PainelistaID'\n",
    "contagem_painelistas = merged_Final['PainelistaID'].nunique()\n",
    "\n",
    "# Imprimir a contagem\n",
    "print(f\"Quantidade de PainelistaID únicos: {contagem_painelistas}\")"
   ]
  },
  {
   "cell_type": "code",
   "execution_count": 23,
   "id": "fb216597-2230-42cf-b049-8ac3fdce8920",
   "metadata": {},
   "outputs": [],
   "source": [
    "# Definir o dia como 1 para a coluna 'Nascimento' para considerar como 01/MM/YYYY\n",
    "merged_Final['Nascimento'] = merged_Final['Nascimento'].apply(lambda x: pd.Timestamp(year=x.year, month=x.month, day=1))\n",
    "\n",
    "# Calcular a idade em anos considerando a data completa da entrevista e do nascimento\n",
    "merged_Final['Idade'] = ((merged_Final['Data'] - merged_Final['Nascimento']).dt.days / 365.25).astype(int)"
   ]
  },
  {
   "cell_type": "code",
   "execution_count": 24,
   "id": "d721e5c6-9dd9-49b1-a042-ac1cec4d9a00",
   "metadata": {},
   "outputs": [
    {
     "name": "stdout",
     "output_type": "stream",
     "text": [
      "Média de idade dos 600 Painelistas únicos: 26.99\n",
      "Desvio padrão de idade dos 600 Painelistas únicos: 9.38\n"
     ]
    }
   ],
   "source": [
    "# Remover duplicatas baseadas na coluna 'PainelistaID' mantendo a primeira ocorrência\n",
    "merged_unicos = merged_Final.drop_duplicates(subset='PainelistaID', keep='first')\n",
    "\n",
    "# Calcular a média e o desvio padrão da idade dos 600 Painelistas únicos\n",
    "media_idade_600_unicos = merged_unicos['Idade'].mean()\n",
    "desvio_padrao_idade_600_unicos = merged_unicos['Idade'].std()\n",
    "\n",
    "# Contar o número de ocorrências únicas de 'PainelistaID'\n",
    "contagem_unicos = merged_unicos['PainelistaID'].value_counts().reset_index()\n",
    "contagem_unicos.columns = ['PainelistaID', 'Contagem']\n",
    "\n",
    "# Imprimir os resultados\n",
    "print(f\"Média de idade dos 600 Painelistas únicos: {media_idade_600_unicos:.2f}\")\n",
    "print(f\"Desvio padrão de idade dos 600 Painelistas únicos: {desvio_padrao_idade_600_unicos:.2f}\")"
   ]
  },
  {
   "cell_type": "markdown",
   "id": "3339b5ab-87eb-4ece-90b5-c1092828a011",
   "metadata": {},
   "source": [
    "> Média de idade dos 600 Painelistas únicos: 26.99\n",
    "\n",
    "> Desvio padrão de idade dos 600 Painelistas únicos: 9.38\n",
    "\n",
    "> Bônus (Insigth): Saber a idade média e o desvio padrão ajuda muito em entender o público alvo"
   ]
  },
  {
   "cell_type": "markdown",
   "id": "62cdd941-b588-4409-8ad0-f880fb9816b6",
   "metadata": {},
   "source": [
    "### b. Quantos % de quem possui filho(s) são do sexo Feminino?"
   ]
  },
  {
   "cell_type": "code",
   "execution_count": 25,
   "id": "d5bbbb84-ee93-4d1b-9a55-16eff1efba3c",
   "metadata": {},
   "outputs": [
    {
     "data": {
      "text/plain": [
       "600"
      ]
     },
     "execution_count": 25,
     "metadata": {},
     "output_type": "execute_result"
    }
   ],
   "source": [
    "# Filtrar as linhas onde 'CodQuestao' é 57627 (Você tem filhos?), 'Resposta' é 'sim' e 'Sexo' é 'Feminino'\n",
    "com_filhos_feminino = merged_Final[(merged_Final['CodQuestao'] == 57627)]\n",
    "\n",
    "# Contar o número de 'PainelistaID' únicos que atendem aos critérios\n",
    "com_filhos_feminino['PainelistaID'].nunique()"
   ]
  },
  {
   "cell_type": "code",
   "execution_count": 26,
   "id": "45ab3121-df0b-4865-acb8-63d9bb6f5563",
   "metadata": {},
   "outputs": [
    {
     "name": "stdout",
     "output_type": "stream",
     "text": [
      "Quantidade de mulheres com filhos: 269\n",
      "Percentual de mulheres com filhos em relação ao total de Painelistas: 44.83%\n"
     ]
    }
   ],
   "source": [
    "# Filtrar as linhas onde 'CodQuestao' é 57627 (Você tem filhos?), 'Resposta' é 'sim' e 'Sexo' é 'Feminino'\n",
    "com_filhos_feminino = merged_Final[(merged_Final['CodQuestao'] == 57627) & \n",
    "                                   (merged_Final['Resposta'] == 1) & \n",
    "                                   (merged_Final['Sexo'] == 'F')]\n",
    "\n",
    "# Contar o número de 'PainelistaID' únicos que atendem aos critérios\n",
    "contagem_feminino_com_filhos = com_filhos_feminino['PainelistaID'].nunique()\n",
    "\n",
    "# Calcular a porcentagem em relação ao número total de Painelistas únicos\n",
    "contagem_painelistas = merged_Final['PainelistaID'].nunique()\n",
    "percentual_feminino_com_filhos = (contagem_feminino_com_filhos / contagem_painelistas) * 100\n",
    "\n",
    "# Imprimir os resultados\n",
    "print(f\"Quantidade de mulheres com filhos: {contagem_feminino_com_filhos}\")\n",
    "print(f\"Percentual de mulheres com filhos em relação ao total de Painelistas: {percentual_feminino_com_filhos:.2f}%\")"
   ]
  },
  {
   "cell_type": "markdown",
   "id": "a63ec856-caa7-4cd4-a371-2acd75b54d5d",
   "metadata": {},
   "source": [
    "> Quantidade de mulheres com filhos: 269\n",
    "\n",
    "> Percentual de mulheres com filhos em relação ao total de Painelistas: 44.83%\n",
    "\n",
    "> Bônus (Insigth): Compreender a persona de mulheres com um filho, que representa 44,83% dos painelistas, é essencial para tomadas de decisão mais precisas no negócio. Este grupo significativo pode ser uma oportunidade valiosa para estratégias e abordagens personalizadas."
   ]
  },
  {
   "cell_type": "markdown",
   "id": "7259f74b-a3df-46b6-9927-100621be91c7",
   "metadata": {},
   "source": [
    "### c. Quantos % dos Painelistas da região SUL possuem renda mensal até R$ 2.999?"
   ]
  },
  {
   "cell_type": "code",
   "execution_count": 27,
   "id": "5623ee54-c5ae-4401-96d6-23a6be6d194f",
   "metadata": {},
   "outputs": [
    {
     "name": "stdout",
     "output_type": "stream",
     "text": [
      "Percentual de Painelistas da região SUL com renda até R$ 2.999: 7.33%\n"
     ]
    }
   ],
   "source": [
    "# Inicializar DataFrame vazio para armazenar os resultados filtrados\n",
    "filtro_sul_renda = pd.DataFrame()\n",
    "\n",
    "# Verificar se 'Estado' é RS, SC ou PR\n",
    "if merged_Final['Estado'].isin(['RS', 'SC', 'PR']).any():\n",
    "    \n",
    "    # Filtrar linhas onde 'CodQuestao' é 57727\n",
    "    if (merged_Final['CodQuestao'] == 57727).any():\n",
    "        \n",
    "        # Aplicar filtro para 'Resposta' ser 1, 2, 3 ou 4\n",
    "        filtro_sul_renda = merged_Final[(merged_Final['Estado'].isin(['RS', 'SC', 'PR'])) & \n",
    "                                        (merged_Final['CodQuestao'] == 57727) &\n",
    "                                        (merged_Final['Resposta'].isin([1, 2, 3, 4]))]\n",
    "        \n",
    "# Contar Painelistas únicos no DataFrame filtrado\n",
    "total_sul = filtro_sul_renda['PainelistaID'].nunique()\n",
    "\n",
    "# Calcular a porcentagem em relação ao número total de Painelistas únicos\n",
    "contagem_painelistas = merged_Final['PainelistaID'].nunique()\n",
    "percentual = (total_sul / contagem_painelistas) * 100\n",
    "\n",
    "# Exibir a resposta\n",
    "print(f\"Percentual de Painelistas da região SUL com renda até R$ 2.999: {percentual:.2f}%\")"
   ]
  },
  {
   "cell_type": "markdown",
   "id": "529e4b3b-ebf9-4558-8b21-68d6aa49f520",
   "metadata": {},
   "source": [
    "> Percentual de Painelistas da região SUL com renda até R$ 2.999: 7.33%\n",
    "\n",
    "> Bônus (Insigth): Embora o grupo de painelistas da região Sul com renda até R$ 2.999 represente apenas 7,33% do total, é crucial compreender as personas por região. Seria valioso investigar as porcentagens correspondentes das outras regiões para obter uma visão mais completa. Essa análise mais abrangente pode revelar oportunidades ou desafios significativos que impactam o negócio de forma mais ampla."
   ]
  },
  {
   "cell_type": "markdown",
   "id": "0da25430-97d9-42c6-a28b-0b7742968a8c",
   "metadata": {},
   "source": [
    "### d. Quantos % dos 600 Painelistas usam o Pix para cada uma das finalidades pesquisadas?"
   ]
  },
  {
   "cell_type": "code",
   "execution_count": 28,
   "id": "f0d39ed2-e49a-4034-bf1e-1c94b23d0727",
   "metadata": {},
   "outputs": [
    {
     "name": "stdout",
     "output_type": "stream",
     "text": [
      "Porcentagem de registros por categoria:\n",
      "Transferir $$ para amigos e familiares     25.35%\n",
      "Pagar contas                               22.82%\n",
      "Pagar compras em lojas físicas             14.83%\n",
      "Pagar compras em lojas online              14.05%\n",
      "Pagar compras em supermercados             12.79%\n",
      "Pagar prestadores de serviços               9.07%\n",
      "Outros (Especificar)                        1.08%\n",
      "Name: DescOpcaoPOR, dtype: object\n"
     ]
    }
   ],
   "source": [
    "# Filtrar linhas onde 'CodQuestao' é 122499 = \"Para quais finalidades você usa o PIX?\"\n",
    "total_pix = merged_Final[merged_Final['CodQuestao'] == 122499]\n",
    "\n",
    "# Contar o número de registros para cada categoria na coluna 'DescOpcaoPOR'\n",
    "contagem_por_categoria = total_pix['DescOpcaoPOR'].value_counts()\n",
    "\n",
    "# Somar todos os valores contados\n",
    "soma_total = contagem_por_categoria.sum()\n",
    "\n",
    "# Calcular a porcentagem de cada categoria\n",
    "porcentagem_por_categoria = (contagem_por_categoria / soma_total) * 100\n",
    "\n",
    "# Formatar a porcentagem para exibir com '%' e duas casas decimais\n",
    "porcentagem_formatada = porcentagem_por_categoria.map(\"{:.2f}%\".format)\n",
    "\n",
    "print(\"Porcentagem de registros por categoria:\")\n",
    "print(porcentagem_formatada)"
   ]
  },
  {
   "cell_type": "markdown",
   "id": "2223cc45-30b6-49aa-996b-fb9761212585",
   "metadata": {},
   "source": [
    "> Transferir $$ para amigos e familiares     25.35%\n",
    "\n",
    "> Pagar contas                               22.82%\n",
    "\n",
    "> Pagar compras em lojas físicas             14.83%\n",
    "\n",
    "> Pagar compras em lojas online              14.05%\n",
    "\n",
    "> Pagar compras em supermercados             12.79%\n",
    "\n",
    "> Pagar prestadores de serviços               9.07%\n",
    "\n",
    "> Outros (Especificar)                        1.08%\n",
    "\n",
    "> > Bônus (Insigth): As quatro primeiras categorias representam 77,05% do total. Ao incluir \"Pagar compras em supermercados\", essa proporção sobe para 89,84%. Seguindo a regra de Pareto 80/20, focar nessas categorias prioritárias, alinhando-as ao objetivo da empresa, pode maximizar o impacto e eficiência das estratégias de negócio."
   ]
  },
  {
   "cell_type": "markdown",
   "id": "814d9705-ad09-4150-a753-a2904e697a86",
   "metadata": {},
   "source": [
    "### e. Quantos % dos Painelistas que usam o Pix para [Transferir $$ para amigos e familiares] OU [Pagar compras em lojas online] são do sexo Masculino?"
   ]
  },
  {
   "cell_type": "code",
   "execution_count": 29,
   "id": "58e84ed6-df7d-4ec8-8630-d1b58c2d1595",
   "metadata": {},
   "outputs": [
    {
     "name": "stdout",
     "output_type": "stream",
     "text": [
      "Total de homens únicos que responderam 1 ou 5 na questão 122499: 118\n",
      "Percentual em relação ao total de Painelistas únicas: 19.67%\n"
     ]
    }
   ],
   "source": [
    "# Filtrar linhas onde 'CodQuestao' é 122499\n",
    "filtro_cod_questao = merged_Final[merged_Final['CodQuestao'] == 122499]\n",
    "\n",
    "if not filtro_cod_questao.empty:\n",
    "    # Filtrar linhas onde 'Resposta' é 1 ou 5\n",
    "    filtro_resposta = filtro_cod_questao[(filtro_cod_questao['Resposta'] == 1) | (filtro_cod_questao['Resposta'] == 5)]\n",
    "\n",
    "    if not filtro_resposta.empty:\n",
    "        # Filtrar apenas os homens\n",
    "        filtro_masculino = filtro_resposta[filtro_resposta['Sexo'] == 'M']\n",
    "\n",
    "        # Contar o número de homens\n",
    "        total_homens = len(filtro_masculino)\n",
    "\n",
    "# Remover duplicatas por PainelistaID\n",
    "filtro_sem_duplicatas = filtro_masculino.drop_duplicates(subset='PainelistaID')\n",
    "\n",
    "# Contar o número de homens únicos após remover duplicatas\n",
    "total_homens_unicos = len(filtro_sem_duplicatas)\n",
    "\n",
    "# Calcular a porcentagem em relação ao número total de Painelistas únicos\n",
    "percentual_homens_unicos = (total_homens_unicos / contagem_painelistas) * 100\n",
    "\n",
    "# Exibir os resultados\n",
    "print(f\"Total de homens únicos que responderam 1 ou 5 na questão 122499: {total_homens_unicos}\")\n",
    "print(f\"Percentual em relação ao total de Painelistas únicas: {percentual_homens_unicos:.2f}%\")"
   ]
  },
  {
   "cell_type": "markdown",
   "id": "f2f6faad-1aeb-4579-899b-2d0a9e165490",
   "metadata": {},
   "source": [
    "> Total de PainelistasID filtrados: 118\n",
    "\n",
    "> Porcentagem de PainelistasID filtrados em relação ao total: 19.67%\n",
    "\n",
    "> Bônus (Insigth): A presença de 19,67% dos PainelistasID nestas categorias pode ser vista como uma oportunidade de nicho. Mesmo sendo uma proporção menor, essa concentração sugere segmentos específicos com potencial de engajamento mais profundo. Este foco pode permitir estratégias mais personalizadas e efetivas, maximizando o retorno sobre investimento em iniciativas direcionadas."
   ]
  },
  {
   "cell_type": "code",
   "execution_count": null,
   "id": "43decbff-adea-4482-bc12-e65b45dec1d2",
   "metadata": {},
   "outputs": [],
   "source": []
  }
 ],
 "metadata": {
  "kernelspec": {
   "display_name": "Python 3 (ipykernel)",
   "language": "python",
   "name": "python3"
  },
  "language_info": {
   "codemirror_mode": {
    "name": "ipython",
    "version": 3
   },
   "file_extension": ".py",
   "mimetype": "text/x-python",
   "name": "python",
   "nbconvert_exporter": "python",
   "pygments_lexer": "ipython3",
   "version": "3.8.3"
  }
 },
 "nbformat": 4,
 "nbformat_minor": 5
}
